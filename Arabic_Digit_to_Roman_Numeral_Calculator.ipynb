{
  "nbformat": 4,
  "nbformat_minor": 0,
  "metadata": {
    "colab": {
      "provenance": [],
      "authorship_tag": "ABX9TyMuHlpPBmJKpSNTZE5Apdgn",
      "include_colab_link": true
    },
    "kernelspec": {
      "name": "python3",
      "display_name": "Python 3"
    },
    "language_info": {
      "name": "python"
    }
  },
  "cells": [
    {
      "cell_type": "markdown",
      "metadata": {
        "id": "view-in-github",
        "colab_type": "text"
      },
      "source": [
        "<a href=\"https://colab.research.google.com/github/juliachambers2001/Julia-Chambers-Code/blob/main/Arabic_Digit_to_Roman_Numeral_Calculator.ipynb\" target=\"_parent\"><img src=\"https://colab.research.google.com/assets/colab-badge.svg\" alt=\"Open In Colab\"/></a>"
      ]
    },
    {
      "cell_type": "code",
      "execution_count": 3,
      "metadata": {
        "colab": {
          "base_uri": "https://localhost:8080/"
        },
        "id": "fFMXjov6y4t5",
        "outputId": "0a8073a0-37e6-408f-8430-25e31a5dee83"
      },
      "outputs": [
        {
          "name": "stdout",
          "output_type": "stream",
          "text": [
            "Insert value to convert(1000 - 3999): 1344\n",
            "Your number converted to Roman numerals is: \n",
            "MCCCXLIV\n",
            "Would you like to convert another number? (Yes or No?): Yes\n",
            "Insert value to convert(1000 - 3999): 2244\n",
            "Your number converted to Roman numerals is: \n",
            "MMCCXLIV\n",
            "Would you like to convert another number? (Yes or No?): No\n"
          ]
        }
      ],
      "source": [
        "def assignRoman(place, symbol1, symbol2, symbol3):\n",
        "    if place <= 3:\n",
        "        for n in range(place):\n",
        "            print(symbol1, end=\"\")\n",
        "    elif place == 4:\n",
        "        print(symbol1 + symbol2, end=\"\")\n",
        "    elif place == 5:\n",
        "        print(symbol2, end=\"\")\n",
        "    elif place >= 6 and place <= 8:\n",
        "        print(symbol2, end=\"\")\n",
        "        for number in range(place - 5):\n",
        "            print(symbol1, end=\"\")\n",
        "    elif place == 9:\n",
        "        print(symbol1 + symbol3, end=\"\")\n",
        "\n",
        "ans = \"Yes\"\n",
        "while ans == \"Yes\":\n",
        "    number = int(input(\"Insert value to convert(1000 - 3999): \"))\n",
        "\n",
        "    numberThousand = number // 1000\n",
        "    numberLeft = number % 1000\n",
        "\n",
        "    numberHundred = numberLeft // 100\n",
        "    numberLeft = numberLeft % 100\n",
        "\n",
        "    numberTen = numberLeft // 10\n",
        "    numberLeft = numberLeft % 10\n",
        "\n",
        "    numberOne = numberLeft\n",
        "\n",
        "    print(\"Your number converted to Roman numerals is: \")\n",
        "    assignRoman(numberThousand, \"M\", \"\", \"\")\n",
        "    assignRoman(numberHundred, \"C\", \"D\", \"M\")\n",
        "    assignRoman(numberTen, \"X\", \"L\", \"C\")\n",
        "    assignRoman(numberOne, \"I\", \"V\", \"X\")\n",
        "    print()\n",
        "    ans = input(\"Would you like to convert another number? (Yes or No?): \")"
      ]
    }
  ]
}